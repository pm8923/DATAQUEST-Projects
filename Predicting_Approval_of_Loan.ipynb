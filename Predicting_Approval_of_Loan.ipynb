{
 "cells": [
  {
   "cell_type": "markdown",
   "metadata": {},
   "source": [
    "# Predicting Approval of a Loan (In Progress)"
   ]
  },
  {
   "cell_type": "markdown",
   "metadata": {},
   "source": [
    "In this excersize we are using a machine learning to model a borrower's credit risk. Data was obtained from Lending Club's website. Lending club is marketplace for personal loans; borrowers seeking a loan are matched with investors looking to lend money and make a return. The riskier the lend, the higher the interest rate. "
   ]
  },
  {
   "cell_type": "code",
   "execution_count": 60,
   "metadata": {
    "collapsed": false
   },
   "outputs": [],
   "source": [
    "import pandas as pd\n",
    "loans_2007 = pd.read_csv('C:\\Users\\pminh\\Documents\\Python Scripts\\LoanStats3a.csv',skiprows=1,dtype=unicode) #skip the first row (extraneous text) \n",
    "half_count=len(loans_2007)/2\n",
    "loans_2007=loans_2007.dropna(thresh=half_count, axis=1) #remove columns where 50% or more of the rows are missing  \n",
    "loans_2007=loans_2007.drop(['desc'], axis =1) #remove the desc column(contains explanation of each loan) and the url column (contains a link to each loan)\n",
    "loans_2007.to_csv('loans_2007.csv', index=False) #read into new csv file called Loans_2007\n",
    "    "
   ]
  },
  {
   "cell_type": "code",
   "execution_count": 61,
   "metadata": {
    "collapsed": false
   },
   "outputs": [
    {
     "name": "stdout",
     "output_type": "stream",
     "text": [
      "loan_amnt                                2500\n",
      "funded_amnt                              2500\n",
      "funded_amnt_inv                          2500\n",
      "term                                60 months\n",
      "int_rate                               15.27%\n",
      "installment                             59.83\n",
      "grade                                       C\n",
      "sub_grade                                  C4\n",
      "emp_title                               Ryder\n",
      "emp_length                           < 1 year\n",
      "home_ownership                           RENT\n",
      "annual_inc                              30000\n",
      "verification_status           Source Verified\n",
      "issue_d                              Dec-2011\n",
      "loan_status                       Charged Off\n",
      "pymnt_plan                                  n\n",
      "purpose                                   car\n",
      "title                                    bike\n",
      "zip_code                                309xx\n",
      "addr_state                                 GA\n",
      "dti                                         1\n",
      "delinq_2yrs                                 0\n",
      "earliest_cr_line                     Apr-1999\n",
      "inq_last_6mths                              5\n",
      "open_acc                                    3\n",
      "pub_rec                                     0\n",
      "revol_bal                                1687\n",
      "revol_util                               9.4%\n",
      "total_acc                                   4\n",
      "initial_list_status                         f\n",
      "out_prncp                                   0\n",
      "out_prncp_inv                               0\n",
      "total_pymnt                           1014.53\n",
      "total_pymnt_inv                       1014.53\n",
      "total_rec_prncp                        456.46\n",
      "total_rec_int                          435.17\n",
      "total_rec_late_fee                          0\n",
      "recoveries                              122.9\n",
      "collection_recovery_fee                  1.11\n",
      "last_pymnt_d                         Apr-2013\n",
      "last_pymnt_amnt                        119.66\n",
      "last_credit_pull_d                   Oct-2016\n",
      "collections_12_mths_ex_med                  0\n",
      "policy_code                                 1\n",
      "application_type                   INDIVIDUAL\n",
      "acc_now_delinq                              0\n",
      "chargeoff_within_12_mths                    0\n",
      "delinq_amnt                                 0\n",
      "pub_rec_bankruptcies                        0\n",
      "tax_liens                                   0\n",
      "Name: 1, dtype: object\n",
      "50\n"
     ]
    }
   ],
   "source": [
    "loans_2007=pd.read_csv('loans_2007.csv') \n",
    "print(loans_2007.iloc[1]) #display first row \n",
    "print(loans_2007.shape[1]) #display number of columns "
   ]
  },
  {
   "cell_type": "markdown",
   "metadata": {},
   "source": [
    "In order to determine what features (columns) to use to build a good predictive model the following was considered (as suggested by DATAQUEST):\n",
    "1. Does the feature leak information from the future?\n",
    "2. What role does the feature play in determining the borrower's ability to pay back a lender \n",
    "3. How is formatted and does it need to be cleaned up \n",
    "4. Does it need a lot of processing to turn into a useful feature?\n",
    "5. Does it contain redundant information?"
   ]
  },
  {
   "cell_type": "markdown",
   "metadata": {},
   "source": [
    "The rows were analyzed in groups of 18 \n",
    "\n",
    "Looking through the first 18 rows, I thought it it would make sense to drop the following features:\n",
    "1. sub_grade - contains redundant information\n",
    "2. grade - contains redundant information \n",
    "3. verification status - leaks data from future \n",
    "4. issue_id - randomly generated feild \n",
    "5. loan_status - leak data from future \n",
    "6. payment_plan - leak data from future \n",
    "7. emp_title - requires other data and a lot of processing  \n",
    "\n",
    "After looking at what the DATAQUEST team suggested, I realized that I did not include:\n",
    "1. funded_amnt - leaks data from future (determined after the loan has already started to get processed) \n",
    "2. funded_amnt_inv - leaks data from future \n",
    "\n",
    "Features that I did include to be removed that should not have been removed include:\n",
    "1. verification status - indicates wheather income was verified by LC. I thought this information would leak information from the future, but it actually gives insight into the future, because it is not something that is determined after a loan is approved but rather helps decide whether to improve one or not. \n",
    "2. issue_id - is not a randomly generated feild. It is issued the month the loan is funded and leaks information from the future \n",
    "3. funded_amnt and funded_amnt_inv were not included in my original list but they too leak information from the future. These features refer to the total amount committed to the loan at a given time and the total amount committed by the invester at a given time, respectively. "
   ]
  },
  {
   "cell_type": "code",
   "execution_count": 62,
   "metadata": {
    "collapsed": false
   },
   "outputs": [],
   "source": [
    "loans_2007=loans_2007.drop(['funded_amnt','funded_amnt_inv','grade','sub_grade','emp_title','issue_d'], axis=1)"
   ]
  },
  {
   "cell_type": "code",
   "execution_count": 63,
   "metadata": {
    "collapsed": true
   },
   "outputs": [],
   "source": [
    "#the process above was repeated for the remaining groups of rows\n",
    "loans_2007=loans_2007.drop(['zip_code','out_prncp','out_prncp_inv','total_pymnt','total_pymnt_inv','total_rec_prncp'],axis=1)"
   ]
  },
  {
   "cell_type": "code",
   "execution_count": 64,
   "metadata": {
    "collapsed": false
   },
   "outputs": [
    {
     "name": "stdout",
     "output_type": "stream",
     "text": [
      "loan_amnt                            5000\n",
      "term                            36 months\n",
      "int_rate                           10.65%\n",
      "installment                        162.87\n",
      "emp_length                      10+ years\n",
      "home_ownership                       RENT\n",
      "annual_inc                          24000\n",
      "verification_status              Verified\n",
      "loan_status                    Fully Paid\n",
      "pymnt_plan                              n\n",
      "purpose                       credit_card\n",
      "title                            Computer\n",
      "addr_state                             AZ\n",
      "dti                                 27.65\n",
      "delinq_2yrs                             0\n",
      "earliest_cr_line                 Jan-1985\n",
      "inq_last_6mths                          1\n",
      "open_acc                                3\n",
      "pub_rec                                 0\n",
      "revol_bal                           13648\n",
      "revol_util                          83.7%\n",
      "total_acc                               9\n",
      "initial_list_status                     f\n",
      "last_credit_pull_d               Mar-2017\n",
      "collections_12_mths_ex_med              0\n",
      "policy_code                             1\n",
      "application_type               INDIVIDUAL\n",
      "acc_now_delinq                          0\n",
      "chargeoff_within_12_mths                0\n",
      "delinq_amnt                             0\n",
      "pub_rec_bankruptcies                    0\n",
      "tax_liens                               0\n",
      "Name: 0, dtype: object\n",
      "42538\n"
     ]
    }
   ],
   "source": [
    "loans_2007=loans_2007.drop(['total_rec_int', 'total_rec_late_fee','recoveries', 'collection_recovery_fee', 'last_pymnt_d','last_pymnt_amnt'], axis=1)\n",
    "print(loans_2007.iloc[0])\n",
    "print(loans_2007.shape[0])"
   ]
  },
  {
   "cell_type": "markdown",
   "metadata": {},
   "source": [
    "Next we needed to decide what appropriate Target column to use. The loan_status column was chosen because it is the only column that mentions if a loan payment was made on time, had delayed payments, or was defaulted. "
   ]
  },
  {
   "cell_type": "code",
   "execution_count": 65,
   "metadata": {
    "collapsed": false
   },
   "outputs": [
    {
     "name": "stdout",
     "output_type": "stream",
     "text": [
      "Fully Paid                                             34115\n",
      "Charged Off                                             5670\n",
      "Does not meet the credit policy. Status:Fully Paid      1988\n",
      "Does not meet the credit policy. Status:Charged Off      761\n",
      "Late (31-120 days)                                         1\n",
      "Name: loan_status, dtype: int64\n"
     ]
    }
   ],
   "source": [
    "unique_status=loans_2007['loan_status'].value_counts()\n",
    "print(unique_status) "
   ]
  },
  {
   "cell_type": "markdown",
   "metadata": {},
   "source": [
    "An investor is only concerned with accurately predicting whether a loan will be payed off on time or not. We can treat this as binary classification problem and select all rows with 'Fully Paid' and 'Charged Off' loan status. "
   ]
  },
  {
   "cell_type": "code",
   "execution_count": 66,
   "metadata": {
    "collapsed": true
   },
   "outputs": [],
   "source": [
    "loans_2007=loans_2007[(loans_2007['loan_status'] == 'Fully Paid') | (loans_2007['loan_status'] == 'Charged Off')]\n",
    "#create a dictionary in which if a loan is 'Fully Paid' it is assigned a value of 1, \n",
    "#and if it is 'Charged Off' it is assigned a value of '0. \n",
    "mapping_dict={'loan_status':{'Fully Paid':1,'Charged Off':0}} \n",
    "loans_2007=loans_2007.replace(mapping_dict)"
   ]
  },
  {
   "cell_type": "code",
   "execution_count": 67,
   "metadata": {
    "collapsed": false
   },
   "outputs": [
    {
     "name": "stdout",
     "output_type": "stream",
     "text": [
      "['pymnt_plan', 'initial_list_status', 'collections_12_mths_ex_med', 'policy_code', 'application_type', 'acc_now_delinq', 'chargeoff_within_12_mths', 'delinq_amnt', 'tax_liens']\n"
     ]
    }
   ],
   "source": [
    "# remove all columns that have only one unique value as they will not  add any information \n",
    "#to each loan application \n",
    "drop_columns=[]\n",
    "column_names=loans_2007.columns\n",
    "for name in column_names:\n",
    "    non_null=loans_2007[name].dropna()\n",
    "    unique_non_null=non_null.unique() \n",
    "    num_true_unique=len(unique_non_null) \n",
    "    if num_true_unique <= 1:\n",
    "        drop_columns.append(name) \n",
    "        \n",
    "loans_2007=loans_2007.drop(drop_columns, axis=1) \n",
    "print(drop_columns)"
   ]
  },
  {
   "cell_type": "markdown",
   "metadata": {},
   "source": [
    "Next, we should remove columns with a large number of null values and any rows that contain missing values. "
   ]
  },
  {
   "cell_type": "code",
   "execution_count": 68,
   "metadata": {
    "collapsed": false
   },
   "outputs": [
    {
     "name": "stdout",
     "output_type": "stream",
     "text": [
      "loan_amnt                 0\n",
      "term                      0\n",
      "int_rate                  0\n",
      "installment               0\n",
      "emp_length                0\n",
      "home_ownership            0\n",
      "annual_inc                0\n",
      "verification_status       0\n",
      "loan_status               0\n",
      "purpose                   0\n",
      "title                    10\n",
      "addr_state                0\n",
      "dti                       0\n",
      "delinq_2yrs               0\n",
      "earliest_cr_line          0\n",
      "inq_last_6mths            0\n",
      "open_acc                  0\n",
      "pub_rec                   0\n",
      "revol_bal                 0\n",
      "revol_util               50\n",
      "total_acc                 0\n",
      "last_credit_pull_d        2\n",
      "pub_rec_bankruptcies    697\n",
      "dtype: int64\n"
     ]
    }
   ],
   "source": [
    "null_counts=loans_2007.isnull().sum()\n",
    "print(null_counts)"
   ]
  },
  {
   "cell_type": "code",
   "execution_count": 69,
   "metadata": {
    "collapsed": false
   },
   "outputs": [
    {
     "name": "stdout",
     "output_type": "stream",
     "text": [
      "object     11\n",
      "float64    10\n",
      "int64       1\n",
      "dtype: int64\n"
     ]
    }
   ],
   "source": [
    "loans=loans_2007.drop('pub_rec_bankruptcies', axis=1) \n",
    "loans=loans.dropna(axis = 0, subset=['title', 'revol_util', 'last_credit_pull_d']) \n",
    "print(loans.dtypes.value_counts())"
   ]
  },
  {
   "cell_type": "markdown",
   "metadata": {},
   "source": [
    "In order to use scikit learn, object columns that contain text need to be converted to numerical data types. "
   ]
  },
  {
   "cell_type": "code",
   "execution_count": 70,
   "metadata": {
    "collapsed": false
   },
   "outputs": [
    {
     "name": "stdout",
     "output_type": "stream",
     "text": [
      "term                     36 months\n",
      "int_rate                    10.65%\n",
      "emp_length               10+ years\n",
      "home_ownership                RENT\n",
      "verification_status       Verified\n",
      "purpose                credit_card\n",
      "title                     Computer\n",
      "addr_state                      AZ\n",
      "earliest_cr_line          Jan-1985\n",
      "revol_util                   83.7%\n",
      "last_credit_pull_d        Mar-2017\n",
      "Name: 0, dtype: object\n"
     ]
    }
   ],
   "source": [
    "object_columns_df=loans.select_dtypes(include=['object']) \n",
    "print(object_columns_df.iloc[0]) "
   ]
  },
  {
   "cell_type": "code",
   "execution_count": 71,
   "metadata": {
    "collapsed": false
   },
   "outputs": [
    {
     "name": "stdout",
     "output_type": "stream",
     "text": [
      "RENT        18881\n",
      "MORTGAGE    17687\n",
      "OWN          3056\n",
      "OTHER          96\n",
      "NONE            3\n",
      "Name: home_ownership, dtype: int64\n",
      "Not Verified       16890\n",
      "Verified           12832\n",
      "Source Verified    10001\n",
      "Name: verification_status, dtype: int64\n",
      "10+ years    8897\n",
      "< 1 year     4576\n",
      "2 years      4389\n",
      "3 years      4094\n",
      "4 years      3435\n",
      "5 years      3279\n",
      "1 year       3240\n",
      "6 years      2227\n",
      "7 years      1771\n",
      "8 years      1482\n",
      "9 years      1259\n",
      "n/a          1074\n",
      "Name: emp_length, dtype: int64\n",
      " 36 months    29041\n",
      " 60 months    10682\n",
      "Name: term, dtype: int64\n",
      "CA    7095\n",
      "NY    3815\n",
      "FL    2869\n",
      "TX    2729\n",
      "NJ    1850\n",
      "IL    1524\n",
      "PA    1515\n",
      "VA    1407\n",
      "GA    1399\n",
      "MA    1343\n",
      "OH    1221\n",
      "MD    1053\n",
      "AZ     878\n",
      "WA     841\n",
      "CO     791\n",
      "NC     788\n",
      "CT     754\n",
      "MI     722\n",
      "MO     685\n",
      "MN     613\n",
      "NV     497\n",
      "SC     472\n",
      "WI     459\n",
      "AL     450\n",
      "OR     450\n",
      "LA     436\n",
      "KY     327\n",
      "OK     299\n",
      "KS     271\n",
      "UT     259\n",
      "AR     245\n",
      "DC     212\n",
      "RI     199\n",
      "NM     190\n",
      "WV     177\n",
      "HI     173\n",
      "NH     172\n",
      "DE     113\n",
      "MT      85\n",
      "WY      83\n",
      "AK      81\n",
      "SD      63\n",
      "VT      54\n",
      "MS      19\n",
      "TN      17\n",
      "IN       9\n",
      "ID       6\n",
      "IA       5\n",
      "NE       5\n",
      "ME       3\n",
      "Name: addr_state, dtype: int64\n"
     ]
    }
   ],
   "source": [
    "cols = ['home_ownership', 'verification_status', 'emp_length', 'term', 'addr_state']\n",
    "for c in cols:\n",
    "    print(loans[c].value_counts()) \n",
    "    "
   ]
  },
  {
   "cell_type": "code",
   "execution_count": 72,
   "metadata": {
    "collapsed": false
   },
   "outputs": [
    {
     "name": "stdout",
     "output_type": "stream",
     "text": [
      "debt_consolidation    18660\n",
      "credit_card            5134\n",
      "other                  3985\n",
      "home_improvement       2980\n",
      "major_purchase         2182\n",
      "small_business         1827\n",
      "car                    1549\n",
      "wedding                 947\n",
      "medical                 693\n",
      "moving                  581\n",
      "house                   382\n",
      "vacation                380\n",
      "educational             320\n",
      "renewable_energy        103\n",
      "Name: purpose, dtype: int64\n",
      "Debt Consolidation                        2188\n",
      "Debt Consolidation Loan                   1732\n",
      "Personal Loan                              661\n",
      "Consolidation                              516\n",
      "debt consolidation                         508\n",
      "Credit Card Consolidation                  357\n",
      "Home Improvement                           357\n",
      "Debt consolidation                         334\n",
      "Small Business Loan                        329\n",
      "Credit Card Loan                           319\n",
      "Personal                                   309\n",
      "Consolidation Loan                         256\n",
      "Home Improvement Loan                      249\n",
      "personal loan                              234\n",
      "personal                                   220\n",
      "Loan                                       213\n",
      "Wedding Loan                               209\n",
      "consolidation                              205\n",
      "Car Loan                                   204\n",
      "Other Loan                                 192\n",
      "Credit Card Payoff                         155\n",
      "Wedding                                    154\n",
      "Major Purchase Loan                        145\n",
      "Credit Card Refinance                      144\n",
      "Consolidate                                127\n",
      "Medical                                    122\n",
      "Credit Card                                119\n",
      "home improvement                           112\n",
      "My Loan                                     94\n",
      "Credit Cards                                93\n",
      "                                          ... \n",
      "Outstanding Credit                           1\n",
      "DebtConsolidationn                           1\n",
      " Freedom                                     1\n",
      "Go for Broke                                 1\n",
      "Startup Money for Small Business             1\n",
      "SOLAR PV                                     1\n",
      "To pay off balloon payments due              1\n",
      "Paying off the debt                          1\n",
      "Payoff ING PLOC                              1\n",
      "Josh CC Loan                                 1\n",
      "House payoff                                 1\n",
      "Pay on Credit card                           1\n",
      "working hard to get out of debt              1\n",
      "refinance loan                               1\n",
      "Cut the credit cards Loan                    1\n",
      "FundToFinanceCar                             1\n",
      "Dougs Wedding Loan                           1\n",
      "d rock                                       1\n",
      "LC Loan 2                                    1\n",
      "swimming pool repair                         1\n",
      "engagement                                   1\n",
      "getting ready for Baby                       1\n",
      "cart loan                                    1\n",
      "vinman                                       1\n",
      "consolidate the rest of my debt              1\n",
      "Medical/Vacation                             1\n",
      "2BDebtFree                                   1\n",
      "Paying Off High Interest Credit Cards!       1\n",
      "Baby on the way!                             1\n",
      "Consolidaton                                 1\n",
      "Name: title, dtype: int64\n"
     ]
    }
   ],
   "source": [
    "cols=['purpose','title']\n",
    "for c in cols:\n",
    "    print(loans[c].value_counts()) "
   ]
  },
  {
   "cell_type": "code",
   "execution_count": 73,
   "metadata": {
    "collapsed": true
   },
   "outputs": [],
   "source": [
    "mapping_dict = {\n",
    "    \"emp_length\": {\n",
    "        \"10+ years\": 10,\n",
    "        \"9 years\": 9,\n",
    "        \"8 years\": 8,\n",
    "        \"7 years\": 7,\n",
    "        \"6 years\": 6,\n",
    "        \"5 years\": 5,\n",
    "        \"4 years\": 4,\n",
    "        \"3 years\": 3,\n",
    "        \"2 years\": 2,\n",
    "        \"1 year\": 1,\n",
    "        \"< 1 year\": 0,\n",
    "        \"n/a\": 0\n",
    "    }\n",
    "}\n",
    "\n",
    "loans=loans.drop(['last_credit_pull_d', 'addr_state', 'title', 'earliest_cr_line'],axis=1)\n",
    "loans['int_rate']=loans['int_rate'].str.rstrip('%').astype(float) \n",
    "loans['revol_util']=loans['revol_util'].str.rstrip('%').astype(float)\n",
    "loans = loans.replace(mapping_dict) "
   ]
  },
  {
   "cell_type": "code",
   "execution_count": 74,
   "metadata": {
    "collapsed": false
   },
   "outputs": [],
   "source": [
    "cat_columns = [\"home_ownership\", \"verification_status\", \"emp_length\", \"purpose\", \"term\"]\n",
    "for c in cat_columns:\n",
    "    loans[c]=loans[c].astype('category')\n",
    "dummy_df = pd.get_dummies(loans[cat_columns])\n",
    "loans = pd.concat([loans, dummy_df], axis=1)\n",
    "loans = loans.drop(cat_columns, axis=1)"
   ]
  },
  {
   "cell_type": "markdown",
   "metadata": {},
   "source": [
    "Once the data is all clean, it is important to decide and error metric for the  model. It is important to note that the loans dataset presents a class imbalance. There are 6 times as many loans that were payed off on time (1's) as there were loans that weren't paid off (0's). This implies that a classifier can predict 1 for a row and have high accuracy. Therefore, accuracy is not a proper metric to use to assess the strength of our model. Rather, our model should optimize towards a high true positive rate (the number of predictions that were correct) and a low false positive rate (number of predictions that were 1's but should have been 0's), so that an investor has less chances of losing money. "
   ]
  },
  {
   "cell_type": "code",
   "execution_count": 75,
   "metadata": {
    "collapsed": false
   },
   "outputs": [
    {
     "name": "stdout",
     "output_type": "stream",
     "text": [
      "0.999291408326\n",
      "0.999147434955\n"
     ]
    }
   ],
   "source": [
    "from sklearn.linear_model import LogisticRegression\n",
    "from sklearn.cross_validation import cross_val_predict, KFold\n",
    "target=loans['loan_status'] \n",
    "features=loans.drop(['loan_status'],axis=1)\n",
    "lr = LogisticRegression()\n",
    "kf = KFold(features.shape[0], random_state=1)\n",
    "predictions=cross_val_predict(lr, features, y=target, cv=kf) \n",
    "\n",
    "predictions = pd.Series(predictions)\n",
    "fp_filter = (predictions == 1) & (loans[\"loan_status\"] == 0)\n",
    "fp = len(predictions[fp_filter])\n",
    "\n",
    "# True positives.\n",
    "tp_filter = (predictions == 1) & (loans[\"loan_status\"] == 1)\n",
    "tp = len(predictions[tp_filter])\n",
    "\n",
    "# False negatives.\n",
    "fn_filter = (predictions == 0) & (loans[\"loan_status\"] == 1)\n",
    "fn = len(predictions[fn_filter])\n",
    "\n",
    "# True negatives\n",
    "tn_filter = (predictions == 0) & (loans[\"loan_status\"] == 0)\n",
    "tn = len(predictions[tn_filter])\n",
    "\n",
    "fpr=float(fp)/float(fp+tn) \n",
    "tpr=float(tp)/float(fn+tp)\n",
    "\n",
    "print(fpr) \n",
    "print(tpr)"
   ]
  },
  {
   "cell_type": "markdown",
   "metadata": {},
   "source": [
    "The FPR and TPR are both very high. This is most likely due to the class imbalance. One way to correct for the imbalance is to tell the classifier to penalize misclassifications of the less prevalent class more than the other class. By setting the class_weight parameter to balanced, the penalty is set to be inversely proportional to the class frequencies. "
   ]
  },
  {
   "cell_type": "code",
   "execution_count": 76,
   "metadata": {
    "collapsed": false
   },
   "outputs": [
    {
     "name": "stdout",
     "output_type": "stream",
     "text": [
      "0.615234720992\n",
      "0.629310598265\n"
     ]
    }
   ],
   "source": [
    "from sklearn.linear_model import LogisticRegression\n",
    "from sklearn.cross_validation import cross_val_predict\n",
    "from sklearn.cross_validation import cross_val_predict, KFold\n",
    "#By setting the class_weight parameter to balanced, the penalty is set to be inversely \n",
    "#proportional to the class frequencies\n",
    "lr = LogisticRegression(class_weight='balanced')\n",
    "kf = KFold(features.shape[0], random_state=1)\n",
    "predictions=cross_val_predict(lr, features, y=target, cv=kf) \n",
    "\n",
    "predictions = pd.Series(predictions)\n",
    "fp_filter = (predictions == 1) & (loans[\"loan_status\"] == 0)\n",
    "fp = len(predictions[fp_filter])\n",
    "\n",
    "# True positives.\n",
    "tp_filter = (predictions == 1) & (loans[\"loan_status\"] == 1)\n",
    "tp = len(predictions[tp_filter])\n",
    "\n",
    "# False negatives.\n",
    "fn_filter = (predictions == 0) & (loans[\"loan_status\"] == 1)\n",
    "fn = len(predictions[fn_filter])\n",
    "\n",
    "# True negatives\n",
    "tn_filter = (predictions == 0) & (loans[\"loan_status\"] == 0)\n",
    "tn = len(predictions[tn_filter])\n",
    "\n",
    "fpr=float(fp)/float(fp+tn) \n",
    "tpr=float(tp)/float(fn+tp)\n",
    "\n",
    "print(fpr) \n",
    "print(tpr)"
   ]
  },
  {
   "cell_type": "markdown",
   "metadata": {},
   "source": [
    "Unfortunately, by adjusting the penalty for errors within both classes did not help much. THe FPR came down but so did the TPR, so we are missing out on oppurtunities that might have payed the loans on time. We can try manually adjusting the penalties or use a different type of classifier. "
   ]
  },
  {
   "cell_type": "code",
   "execution_count": null,
   "metadata": {
    "collapsed": true
   },
   "outputs": [],
   "source": []
  }
 ],
 "metadata": {
  "anaconda-cloud": {},
  "kernelspec": {
   "display_name": "Python [default]",
   "language": "python",
   "name": "python2"
  },
  "language_info": {
   "codemirror_mode": {
    "name": "ipython",
    "version": 2
   },
   "file_extension": ".py",
   "mimetype": "text/x-python",
   "name": "python",
   "nbconvert_exporter": "python",
   "pygments_lexer": "ipython2",
   "version": "2.7.12"
  }
 },
 "nbformat": 4,
 "nbformat_minor": 1
}
